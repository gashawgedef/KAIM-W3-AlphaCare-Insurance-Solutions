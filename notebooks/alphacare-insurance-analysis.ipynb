{
 "cells": [
  {
   "cell_type": "code",
   "execution_count": 1,
   "metadata": {},
   "outputs": [],
   "source": [
    "import numpy as np\n",
    "import pandas as pd\n",
    "import matplotlib.pyplot as plt\n",
    "import seaborn as sns"
   ]
  },
  {
   "cell_type": "code",
   "execution_count": 4,
   "metadata": {},
   "outputs": [
    {
     "name": "stdout",
     "output_type": "stream",
     "text": [
      "Index(['Unnamed: 0', 'Province', 'Zipcode', 'Gender', 'Total_Claim',\n",
      "       'Premium'],\n",
      "      dtype='object')\n"
     ]
    },
    {
     "data": {
      "text/html": [
       "<div>\n",
       "<style scoped>\n",
       "    .dataframe tbody tr th:only-of-type {\n",
       "        vertical-align: middle;\n",
       "    }\n",
       "\n",
       "    .dataframe tbody tr th {\n",
       "        vertical-align: top;\n",
       "    }\n",
       "\n",
       "    .dataframe thead th {\n",
       "        text-align: right;\n",
       "    }\n",
       "</style>\n",
       "<table border=\"1\" class=\"dataframe\">\n",
       "  <thead>\n",
       "    <tr style=\"text-align: right;\">\n",
       "      <th></th>\n",
       "      <th>Unnamed: 0</th>\n",
       "      <th>Province</th>\n",
       "      <th>Zipcode</th>\n",
       "      <th>Gender</th>\n",
       "      <th>Total_Claim</th>\n",
       "      <th>Premium</th>\n",
       "    </tr>\n",
       "  </thead>\n",
       "  <tbody>\n",
       "    <tr>\n",
       "      <th>0</th>\n",
       "      <td>0</td>\n",
       "      <td>C</td>\n",
       "      <td>1003</td>\n",
       "      <td>Female</td>\n",
       "      <td>652.740226</td>\n",
       "      <td>898.493109</td>\n",
       "    </tr>\n",
       "    <tr>\n",
       "      <th>1</th>\n",
       "      <td>1</td>\n",
       "      <td>A</td>\n",
       "      <td>1003</td>\n",
       "      <td>Female</td>\n",
       "      <td>1159.389368</td>\n",
       "      <td>1040.563548</td>\n",
       "    </tr>\n",
       "    <tr>\n",
       "      <th>2</th>\n",
       "      <td>2</td>\n",
       "      <td>C</td>\n",
       "      <td>1003</td>\n",
       "      <td>Male</td>\n",
       "      <td>729.641413</td>\n",
       "      <td>1137.593249</td>\n",
       "    </tr>\n",
       "    <tr>\n",
       "      <th>3</th>\n",
       "      <td>3</td>\n",
       "      <td>C</td>\n",
       "      <td>1003</td>\n",
       "      <td>Female</td>\n",
       "      <td>253.524198</td>\n",
       "      <td>764.332164</td>\n",
       "    </tr>\n",
       "    <tr>\n",
       "      <th>4</th>\n",
       "      <td>4</td>\n",
       "      <td>A</td>\n",
       "      <td>1001</td>\n",
       "      <td>Male</td>\n",
       "      <td>938.056933</td>\n",
       "      <td>1349.828367</td>\n",
       "    </tr>\n",
       "  </tbody>\n",
       "</table>\n",
       "</div>"
      ],
      "text/plain": [
       "   Unnamed: 0 Province  Zipcode  Gender  Total_Claim      Premium\n",
       "0           0        C     1003  Female   652.740226   898.493109\n",
       "1           1        A     1003  Female  1159.389368  1040.563548\n",
       "2           2        C     1003    Male   729.641413  1137.593249\n",
       "3           3        C     1003  Female   253.524198   764.332164\n",
       "4           4        A     1001    Male   938.056933  1349.828367"
      ]
     },
     "execution_count": 4,
     "metadata": {},
     "output_type": "execute_result"
    }
   ],
   "source": [
    "df = pd.read_csv ('../data/insurance_data.csv')\n",
    "print(df.columns)\n",
    "df.head()"
   ]
  },
  {
   "cell_type": "code",
   "execution_count": 5,
   "metadata": {},
   "outputs": [
    {
     "name": "stdout",
     "output_type": "stream",
     "text": [
      "<class 'pandas.core.frame.DataFrame'>\n",
      "RangeIndex: 1000 entries, 0 to 999\n",
      "Data columns (total 6 columns):\n",
      " #   Column       Non-Null Count  Dtype  \n",
      "---  ------       --------------  -----  \n",
      " 0   Unnamed: 0   1000 non-null   int64  \n",
      " 1   Province     1000 non-null   object \n",
      " 2   Zipcode      1000 non-null   int64  \n",
      " 3   Gender       1000 non-null   object \n",
      " 4   Total_Claim  1000 non-null   float64\n",
      " 5   Premium      1000 non-null   float64\n",
      "dtypes: float64(2), int64(2), object(2)\n",
      "memory usage: 47.0+ KB\n",
      "None\n",
      "        Unnamed: 0      Zipcode  Total_Claim      Premium\n",
      "count  1000.000000  1000.000000  1000.000000  1000.000000\n",
      "mean    499.500000  1001.999000   931.049722  1112.742919\n",
      "std     288.819436     0.817109   566.679835   198.269534\n",
      "min       0.000000  1001.000000    27.339840   527.702050\n",
      "25%     249.750000  1001.000000   513.545195   984.410128\n",
      "50%     499.500000  1002.000000   816.332296  1115.189886\n",
      "75%     749.250000  1003.000000  1225.736472  1252.291547\n",
      "max     999.000000  1003.000000  4691.694334  1684.477791\n"
     ]
    }
   ],
   "source": [
    "print(df.info())\n",
    "print(df.describe())"
   ]
  },
  {
   "cell_type": "code",
   "execution_count": 11,
   "metadata": {},
   "outputs": [
    {
     "name": "stdout",
     "output_type": "stream",
     "text": [
      "Unnamed: 0       int64\n",
      "Province        object\n",
      "Zipcode          int64\n",
      "Gender          object\n",
      "Total_Claim    float64\n",
      "Premium        float64\n",
      "dtype: object\n"
     ]
    }
   ],
   "source": [
    "print(df.dtypes)\n"
   ]
  },
  {
   "cell_type": "code",
   "execution_count": 12,
   "metadata": {},
   "outputs": [
    {
     "name": "stdout",
     "output_type": "stream",
     "text": [
      "Unnamed: 0     0\n",
      "Province       0\n",
      "Zipcode        0\n",
      "Gender         0\n",
      "Total_Claim    0\n",
      "Premium        0\n",
      "dtype: int64\n"
     ]
    }
   ],
   "source": [
    "print(df.isnull().sum())\n"
   ]
  },
  {
   "cell_type": "code",
   "execution_count": 17,
   "metadata": {},
   "outputs": [],
   "source": [
    "# import seaborn as sns\n",
    "# import matplotlib.pyplot as plt\n",
    "\n",
    "# sns.histplot(df['Total_Claim'], kde=True)\n",
    "# plt.show()\n",
    "\n",
    "# sns.countplot(df['Gender'])\n",
    "# plt.show()\n"
   ]
  },
  {
   "cell_type": "code",
   "execution_count": 1,
   "metadata": {},
   "outputs": [
    {
     "name": "stdout",
     "output_type": "stream",
     "text": [
      "Data loaded successfully.\n",
      "A/B Hypothesis Testing Results:\n",
      "Group A Mean: 941.6866221884275\n",
      "Group B Mean: 964.328426645349\n",
      "T-statistic: -0.5119223125311688\n",
      "P-value: 0.6088753371119786\n",
      "Reject Null Hypothesis: False\n"
     ]
    },
    {
     "name": "stderr",
     "output_type": "stream",
     "text": [
      "c:\\Users\\ggashaw\\Desktop\\10 Academy\\KAIM-W3-AlphaCare-Insurance-Solutions\\venv\\Lib\\site-packages\\tqdm\\auto.py:21: TqdmWarning: IProgress not found. Please update jupyter and ipywidgets. See https://ipywidgets.readthedocs.io/en/stable/user_install.html\n",
      "  from .autonotebook import tqdm as notebook_tqdm\n"
     ]
    }
   ],
   "source": [
    "# import pandas as pd\n",
    "# import matplotlib.pyplot as plt\n",
    "# import seaborn as sns\n",
    "# import os\n",
    "# import sys\n",
    "\n",
    "# # Add the path to the folder containing alphacare_insurance_analysis.py\n",
    "# sys.path.append('../scripts')  # Adjust this path based on the actual location\n",
    "\n",
    "# # Import the functions from the script\n",
    "# # from alphacare_insurance_analysis import load_data, plot_correlation_matrix, plot_scatter_by_zipcode, plot_trends_over_geography, plot_boxplot_for_outliers, create_directory, plot_numerical_distributions, plot_categorical_distributions\n",
    "# from alphacare_insurance_analysis import load_data, ab_hypothesis_testing,plot_correlation_matrix, plot_scatter_by_zipcode, plot_trends_over_geography, plot_boxplot_for_outliers, create_directory, plot_numerical_distributions, plot_categorical_distributions\n",
    "\n",
    "# # Set paths\n",
    "# data_path = '../data/insurance_data.csv'  # Adjust the path to your dataset\n",
    "# plots_dir = '../plots'  # Directory where plots will be saved\n",
    "\n",
    "# # Step 1: Load the data\n",
    "# data = load_data(data_path)\n",
    "\n",
    "# # Step 2: Create the plots directory if it doesn't exist\n",
    "# create_directory(plots_dir)\n",
    "\n",
    "# # Step 3: Perform Univariate Analysis\n",
    "# if data is not None:\n",
    "#     # Plot numerical distributions\n",
    "#     numerical_columns = ['Total_Claim', 'Premium']\n",
    "#     plot_numerical_distributions(data, numerical_columns, plots_dir)\n",
    "    \n",
    "#     # Plot categorical distributions\n",
    "#     categorical_columns = ['Province', 'Zipcode', 'Gender']\n",
    "#     plot_categorical_distributions(data, categorical_columns, plots_dir)\n",
    "\n",
    "#     # Perform Bivariate/Multivariate Analysis\n",
    "#     # 1. Correlation Matrix for numerical columns\n",
    "#     numerical_columns_for_correlation = ['Total_Claim', 'Premium']  # Adjusted columns\n",
    "#     plot_correlation_matrix(data, numerical_columns_for_correlation, plots_dir)\n",
    "\n",
    "#     # 2. Scatter plot of TotalPremium vs TotalClaims by Zipcode\n",
    "#     plot_scatter_by_zipcode(data, plots_dir)\n",
    "\n",
    "#     # 3. Box plot for trends over geography\n",
    "#     plot_trends_over_geography(data, plots_dir)\n",
    "\n",
    "#     # 4. Box plot for outlier detection in numerical columns\n",
    "#     plot_boxplot_for_outliers(data, numerical_columns, plots_dir)\n",
    "    \n",
    "#      # Perform A/B Hypothesis Testing\n",
    "#     # Check the number of samples in each group before performing the test\n",
    "#     result = ab_hypothesis_testing(data, 'Zipcode', 'Total_Claim', min_sample_size=10)\n",
    "#     print(\"A/B Hypothesis Testing Results:\", result)\n",
    "\n",
    "\n",
    "import importlib\n",
    "import pandas as pd\n",
    "import matplotlib.pyplot as plt\n",
    "import seaborn as sns\n",
    "import os\n",
    "import sys\n",
    "\n",
    "# Add the path to the folder containing alphacare_insurance_analysis.py\n",
    "sys.path.append('../scripts')  # Adjust this path based on the actual location\n",
    "\n",
    "# Import the functions from the script (import first)\n",
    "from alphacare_insurance_analysis import load_data, ab_hypothesis_testing, plot_correlation_matrix, plot_scatter_by_zipcode, plot_trends_over_geography, plot_boxplot_for_outliers, create_directory, plot_numerical_distributions, plot_categorical_distributions\n",
    "\n",
    "# Optional: Reload the module only if you are testing changes\n",
    "# importlib.reload(alphacare_insurance_analysis) \n",
    "\n",
    "# Set paths\n",
    "data_path = '../data/insurance_data.csv'  # Adjust the path to your dataset\n",
    "plots_dir = '../plots'  # Directory where plots will be saved\n",
    "\n",
    "# Step 1: Load the data\n",
    "data = load_data(data_path)\n",
    "\n",
    "# Step 2: Create the plots directory if it doesn't exist\n",
    "create_directory(plots_dir)\n",
    "\n",
    "# Step 3: Perform Univariate Analysis\n",
    "if data is not None:\n",
    "    # Perform A/B Hypothesis Testing\n",
    "    # Check the number of samples in each group before performing the test\n",
    "    # Example call to the function\n",
    "    result = ab_hypothesis_testing(data, 'Zipcode', 'Total_Claim')\n",
    "\n",
    "    # Check if an error is returned\n",
    "    if 'Error' in result:\n",
    "        print(result['Error'])\n",
    "    else:\n",
    "        # Print results from the dictionary\n",
    "        print(\"A/B Hypothesis Testing Results:\")\n",
    "        print(f\"Group A Mean: {result['Group A Mean']}\")\n",
    "        print(f\"Group B Mean: {result['Group B Mean']}\")\n",
    "        print(f\"T-statistic: {result['T-statistic']}\")\n",
    "        print(f\"P-value: {result['P-value']}\")\n",
    "        print(f\"Reject Null Hypothesis: {result['Reject Null Hypothesis']}\")"
   ]
  }
 ],
 "metadata": {
  "kernelspec": {
   "display_name": "venv",
   "language": "python",
   "name": "python3"
  },
  "language_info": {
   "codemirror_mode": {
    "name": "ipython",
    "version": 3
   },
   "file_extension": ".py",
   "mimetype": "text/x-python",
   "name": "python",
   "nbconvert_exporter": "python",
   "pygments_lexer": "ipython3",
   "version": "3.12.0"
  }
 },
 "nbformat": 4,
 "nbformat_minor": 2
}
